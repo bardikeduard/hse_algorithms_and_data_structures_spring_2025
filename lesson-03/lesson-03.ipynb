{
 "cells": [
  {
   "cell_type": "code",
   "execution_count": 16,
   "id": "95460fc8",
   "metadata": {},
   "outputs": [],
   "source": [
    "import copy\n",
    "import time\n",
    "import random\n",
    "\n",
    "def gen_array(n=10):\n",
    "    return [random.randint(0, 100) for _ in range(n)]"
   ]
  },
  {
   "cell_type": "markdown",
   "id": "c1b62704-8201-46a0-a594-4d93140a949d",
   "metadata": {},
   "source": [
    "## Гномья сортировка (gnome sort)"
   ]
  },
  {
   "cell_type": "code",
   "execution_count": 3,
   "id": "6b9236b5",
   "metadata": {},
   "outputs": [],
   "source": [
    "def gnome_sort(arr):\n",
    "    n = len(arr)\n",
    "    if n < 2:\n",
    "        return\n",
    "    i = 1\n",
    "    while i < n:\n",
    "        if arr[i] >= arr[i-1]:\n",
    "            i += 1\n",
    "        else:\n",
    "            arr[i], arr[i-1] = arr[i-1], arr[i]\n",
    "            i -= 1\n",
    "            if i <= 1:\n",
    "                i += 1"
   ]
  },
  {
   "cell_type": "code",
   "execution_count": 6,
   "id": "64cf60bc",
   "metadata": {},
   "outputs": [
    {
     "name": "stdout",
     "output_type": "stream",
     "text": [
      "[17, 5, 41, 19, 31, 72, 45, 56, 96, 72, 31, 22, 23, 24, 62, 68, 66, 88, 32, 13]\n",
      "[5, 13, 17, 19, 22, 23, 24, 31, 31, 32, 41, 45, 56, 62, 66, 68, 72, 72, 88, 96]\n"
     ]
    }
   ],
   "source": [
    "arr = gen_array(20)\n",
    "print(arr)\n",
    "gnome_sort(arr)\n",
    "print(arr)"
   ]
  },
  {
   "cell_type": "markdown",
   "id": "f5f89332-1346-4b23-a328-793253b05db4",
   "metadata": {},
   "source": [
    "## Сортировка пузырьком (bubble sort)"
   ]
  },
  {
   "cell_type": "code",
   "execution_count": 10,
   "id": "10ab5bd1",
   "metadata": {},
   "outputs": [],
   "source": [
    "def bubble_sort(arr):\n",
    "    n = len(arr)\n",
    "    if n < 2:\n",
    "        return\n",
    "    for i in range(0, n-1):\n",
    "        is_sorted = True\n",
    "        for j in range(0, n-1):\n",
    "            if arr[j] > arr[j+1]:\n",
    "                arr[j], arr[j+1] = arr[j+1], arr[j]\n",
    "                is_sorted = False\n",
    "        if is_sorted:\n",
    "            return"
   ]
  },
  {
   "cell_type": "code",
   "execution_count": 11,
   "id": "2879dbb3",
   "metadata": {},
   "outputs": [
    {
     "name": "stdout",
     "output_type": "stream",
     "text": [
      "[55, 4, 17, 87, 77, 20, 59, 73, 15, 9, 33, 8, 11, 34, 51, 51, 100, 12, 42, 84]\n",
      "[4, 8, 9, 11, 12, 15, 17, 20, 33, 34, 42, 51, 51, 55, 59, 73, 77, 84, 87, 100]\n"
     ]
    }
   ],
   "source": [
    "arr = gen_array(20)\n",
    "print(arr)\n",
    "bubble_sort(arr)\n",
    "print(arr)"
   ]
  },
  {
   "cell_type": "code",
   "execution_count": 12,
   "id": "e5e9de5a",
   "metadata": {},
   "outputs": [],
   "source": [
    "# Лучший случай -- последовательность отсортированна"
   ]
  },
  {
   "cell_type": "code",
   "execution_count": 13,
   "id": "ac59fe15",
   "metadata": {
    "scrolled": true
   },
   "outputs": [
    {
     "name": "stdout",
     "output_type": "stream",
     "text": [
      "[0, 1, 2, 3, 4, 5, 6, 7, 8, 9, 10, 11, 12, 13, 14, 15, 16, 17, 18, 19]\n",
      "[0, 1, 2, 3, 4, 5, 6, 7, 8, 9, 10, 11, 12, 13, 14, 15, 16, 17, 18, 19]\n"
     ]
    }
   ],
   "source": [
    "arr = list(range(0, 20))\n",
    "print(arr)\n",
    "bubble_sort(arr)\n",
    "print(arr)"
   ]
  },
  {
   "cell_type": "markdown",
   "id": "6d81393b-cec1-4823-bada-79e02ffa32d8",
   "metadata": {},
   "source": [
    "## Сортировка вставкой (insertion sort)"
   ]
  },
  {
   "cell_type": "code",
   "execution_count": 130,
   "id": "68d87b84",
   "metadata": {},
   "outputs": [],
   "source": [
    "def insertion_sort(arr):\n",
    "    n = len(arr)\n",
    "    if n < 2:\n",
    "        return\n",
    "    \n",
    "    for i in range(2, n):\n",
    "        key = arr[i]\n",
    "        j = i - 1\n",
    "        while j >= 0 and arr[j] > key:\n",
    "            arr[j+1] = arr[j]\n",
    "            j -= 1\n",
    "        arr[j+1] = key"
   ]
  },
  {
   "cell_type": "code",
   "execution_count": 28,
   "id": "476c5834",
   "metadata": {},
   "outputs": [
    {
     "name": "stdout",
     "output_type": "stream",
     "text": [
      "[64, 97, 64, 12, 50, 75, 11, 58, 51, 28, 30, 84, 80, 98, 26, 50, 98, 84, 6, 70]\n",
      "[6, 11, 12, 26, 28, 30, 50, 50, 51, 58, 64, 64, 75, 80, 84, 84, 97, 98, 98, 70]\n"
     ]
    }
   ],
   "source": [
    "arr = gen_array(20)\n",
    "print(arr)\n",
    "insertion_sort(arr)\n",
    "print(arr)"
   ]
  },
  {
   "cell_type": "markdown",
   "id": "d877c5e9-9884-4884-87cb-763cef263c4e",
   "metadata": {},
   "source": [
    "## Сортировка слиянием (merge sort)"
   ]
  },
  {
   "cell_type": "code",
   "execution_count": 61,
   "id": "9579412c",
   "metadata": {},
   "outputs": [],
   "source": [
    "def merge_lists_old(left, right):\n",
    "    n = len(left)\n",
    "    m = len(right)\n",
    "    l = 0\n",
    "    r = 0\n",
    "    res = []\n",
    "    while l < n and r < m:\n",
    "        if left[l] < right[r]:\n",
    "            res.append(left[l])\n",
    "            l += 1\n",
    "        elif right[r] < left[l]:\n",
    "            res.append(right[r])\n",
    "            r += 1\n",
    "        else:\n",
    "            res.append(right[r])\n",
    "            res.append(left[l])\n",
    "            r += 1\n",
    "            l += 1\n",
    "    res.extend(right[r:])\n",
    "    res.extend(left[l:])\n",
    "    return res\n",
    "\n",
    "def merge_sort_old(arr):\n",
    "    n = len(arr)\n",
    "    if n <= 1:\n",
    "        return arr\n",
    "    middle = n // 2\n",
    "    left_arr = arr[:middle]\n",
    "    right_arr = arr[middle:]\n",
    "    left_arr = merge_sort_old(left_arr)\n",
    "    right_arr = merge_sort_old(right_arr)\n",
    "    return merge_lists_old(left_arr, right_arr)\n"
   ]
  },
  {
   "cell_type": "code",
   "execution_count": 62,
   "id": "8908eda3",
   "metadata": {},
   "outputs": [
    {
     "name": "stdout",
     "output_type": "stream",
     "text": [
      "[25, 7, 0, 83, 13, 95, 0, 53, 37, 47, 44, 97, 61, 60, 2, 15, 33, 19, 81, 98]\n",
      "[0, 0, 2, 7, 13, 15, 19, 25, 33, 37, 44, 47, 53, 60, 61, 81, 83, 95, 97, 98]\n"
     ]
    }
   ],
   "source": [
    "arr = gen_array(20)\n",
    "print(arr)\n",
    "arr = merge_sort_old(arr)\n",
    "print(arr)"
   ]
  },
  {
   "cell_type": "code",
   "execution_count": 56,
   "id": "1ac1f53b",
   "metadata": {},
   "outputs": [],
   "source": [
    "def merge_lists(arr, start, mid, end):\n",
    "    left = arr[start:mid]\n",
    "    right = arr[mid:end]\n",
    "    k = start\n",
    "    r = 0\n",
    "    l = 0\n",
    "    while start + l < mid and mid + r < end:\n",
    "        if left[l] < right[r]:\n",
    "            arr[k] = left[l]\n",
    "            l += 1\n",
    "            k += 1\n",
    "        elif right[r] < left[l]:\n",
    "            arr[k] = right[r]\n",
    "            r += 1\n",
    "            k += 1\n",
    "        else:\n",
    "            arr[k], arr[k+1] = left[l], right[r]\n",
    "            l += 1\n",
    "            r += 1\n",
    "            k += 2\n",
    "    while start + l < mid:\n",
    "        arr[k] = left[l]\n",
    "        l += 1\n",
    "        k += 1\n",
    "        \n",
    "    while mid + r < end:\n",
    "        arr[k] = right[r]\n",
    "        r += 1\n",
    "        k += 1\n",
    "\n",
    "def merge_sort(arr, start=0, end=len(arr)):\n",
    "    n = end - start\n",
    "    if n <= 1:\n",
    "        return\n",
    "    middle = (start + end) // 2\n",
    "    merge_sort(arr, start, middle)\n",
    "    merge_sort(arr, middle, end)\n",
    "    merge_lists(arr, start, middle, end)\n"
   ]
  },
  {
   "cell_type": "code",
   "execution_count": 67,
   "id": "ac6b7e1c",
   "metadata": {},
   "outputs": [
    {
     "name": "stdout",
     "output_type": "stream",
     "text": [
      "[3, 10, 8, 37, 54, 94, 63, 98, 34, 76, 17, 59, 67, 5, 35, 6, 55, 35, 76, 46]\n",
      "[3, 5, 6, 8, 10, 17, 34, 35, 35, 37, 46, 54, 55, 59, 63, 67, 76, 76, 94, 98]\n"
     ]
    }
   ],
   "source": [
    "arr = gen_array(20)\n",
    "print(arr)\n",
    "merge_sort(arr)\n",
    "print(arr)"
   ]
  },
  {
   "cell_type": "markdown",
   "id": "4c1129b1-9a84-401e-acd7-0de72ca5795c",
   "metadata": {},
   "source": [
    "## Быстрая сортировка (quick sort)"
   ]
  },
  {
   "cell_type": "code",
   "execution_count": 69,
   "id": "9092d89d",
   "metadata": {},
   "outputs": [],
   "source": [
    "def quick_sort_old(arr):\n",
    "    n = len(arr)\n",
    "    if n <= 1:\n",
    "        return arr\n",
    "    pivot = arr[n // 2]\n",
    "    left = [x for x in arr if x < pivot]\n",
    "    middle = [x for x in arr if x == pivot]\n",
    "    right = [x for x in arr if x > pivot]\n",
    "    return quick_sort_old(left) + middle + quick_sort_old(right)"
   ]
  },
  {
   "cell_type": "code",
   "execution_count": 70,
   "id": "de8538c0",
   "metadata": {},
   "outputs": [
    {
     "name": "stdout",
     "output_type": "stream",
     "text": [
      "[67, 45, 90, 7, 36, 32, 24, 7, 52, 43, 1, 26, 80, 64, 2, 50, 17, 54, 37, 80]\n",
      "[1, 2, 7, 7, 17, 24, 26, 32, 36, 37, 43, 45, 50, 52, 54, 64, 67, 80, 80, 90]\n"
     ]
    }
   ],
   "source": [
    "arr = gen_array(20)\n",
    "print(arr)\n",
    "arr = quick_sort_old(arr)\n",
    "print(arr)"
   ]
  },
  {
   "cell_type": "code",
   "execution_count": 85,
   "id": "b453b78d",
   "metadata": {},
   "outputs": [],
   "source": [
    "def partition(arr, low, high):\n",
    "    # [8, 9, 7]\n",
    "    # pivot = 5\n",
    "    middle = (low + high) // 2 # high\n",
    "    pivot = arr[high]#arr[middle]\n",
    "    i = low - 1\n",
    "    for j in range(low, high):\n",
    "        if arr[j] < pivot:\n",
    "            i += 1\n",
    "            arr[i], arr[j] = arr[j], arr[i]\n",
    "    arr[high], arr[i+1] = arr[i+1], arr[high]\n",
    "    return i + 1\n",
    "\n",
    "def quick_sort(arr, low=0, high=len(arr)-1):\n",
    "    if low >= high:\n",
    "        return\n",
    "    pivot_idx = partition(arr, low, high)\n",
    "    quick_sort(arr, low, pivot_idx-1)\n",
    "    quick_sort(arr, pivot_idx+1, high)"
   ]
  },
  {
   "cell_type": "code",
   "execution_count": 87,
   "id": "ab5310b7",
   "metadata": {},
   "outputs": [
    {
     "name": "stdout",
     "output_type": "stream",
     "text": [
      "[8, 25, 11, 8, 83, 16, 20, 45, 57, 19, 8, 43, 5, 99, 22, 48, 81, 8, 83, 57]\n",
      "[5, 8, 8, 8, 8, 11, 16, 19, 20, 22, 25, 43, 45, 48, 57, 57, 81, 83, 83, 99]\n"
     ]
    }
   ],
   "source": [
    "arr = gen_array(20)\n",
    "print(arr)\n",
    "quick_sort(arr)\n",
    "print(arr)"
   ]
  },
  {
   "cell_type": "markdown",
   "id": "b84db42d-270b-4b04-b320-049b416b10d8",
   "metadata": {},
   "source": [
    "## Пирамидальная сортировка"
   ]
  },
  {
   "cell_type": "code",
   "execution_count": 112,
   "id": "0c129b95",
   "metadata": {},
   "outputs": [],
   "source": [
    "def heap_sort(arr):\n",
    "    def heapify(arr, n, i):\n",
    "        largest = i\n",
    "        left = 2 * i + 1\n",
    "        right = 2 * i + 2\n",
    "        if left < n and arr[left] < arr[largest]:\n",
    "            largest = left\n",
    "        if right < n and arr[right] < arr[largest]:\n",
    "            largest = right\n",
    "        if largest != i:\n",
    "            arr[largest], arr[i] = arr[i], arr[largest]\n",
    "            heapify(arr, n, largest)\n",
    "        pass\n",
    "    n = len(arr)\n",
    "    # n - 1\n",
    "    # n - 2\n",
    "    # ...\n",
    "    for i in range(n//2 - 1, -1, -1):\n",
    "        heapify(arr, n, i)\n",
    "    \n",
    "    # TODO: сделать in-place.\n",
    "    res = []\n",
    "    for i in range(n):\n",
    "        n = len(arr)\n",
    "        res.append(arr[0])\n",
    "        arr[0], arr[n-1] = arr[n-1], arr[0]\n",
    "        arr.pop(-1)\n",
    "        heapify(arr, len(arr), 0)\n",
    "    return res"
   ]
  },
  {
   "cell_type": "code",
   "execution_count": 113,
   "id": "bda06c9b",
   "metadata": {},
   "outputs": [
    {
     "name": "stdout",
     "output_type": "stream",
     "text": [
      "[73, 52, 27, 10, 39, 37, 95, 25, 86, 3, 29, 66, 63, 98, 11, 33, 2, 24, 9, 44]\n",
      "[2, 3, 9, 10, 11, 24, 25, 27, 29, 33, 37, 39, 44, 52, 63, 66, 73, 86, 95, 98]\n"
     ]
    }
   ],
   "source": [
    "arr = gen_array(20)\n",
    "print(arr)\n",
    "arr = heap_sort(arr)\n",
    "print(arr)"
   ]
  },
  {
   "cell_type": "markdown",
   "id": "2310e449-f36a-4737-ac7e-54f3dce382c7",
   "metadata": {},
   "source": [
    "## Timsort"
   ]
  },
  {
   "cell_type": "code",
   "execution_count": 133,
   "id": "10c3bff6",
   "metadata": {},
   "outputs": [],
   "source": [
    "def timsort(arr):\n",
    "    min_runs = 32 # от 32 до 64\n",
    "    n = len(arr)\n",
    "    runs = []\n",
    "    i = 0\n",
    "    while i < n:\n",
    "        start = i\n",
    "        if i == n - 1:\n",
    "            runs.append([arr[i]])\n",
    "            i += 1\n",
    "            continue\n",
    "        asc = arr[i] <= arr[i+1]\n",
    "        i += 1\n",
    "        while i < n:\n",
    "            if (asc and arr[i-1] <= arr[i]) or (not asc and arr[i-1] > arr[i]):\n",
    "                i += 1\n",
    "            else:\n",
    "                break\n",
    "        current_run = arr[start:i]\n",
    "        if not asc:\n",
    "            current_run = current_run[::-1]\n",
    "            \n",
    "        if len(current_run) < min_runs:\n",
    "            end = min(n, start + min_runs)\n",
    "            current_run = arr[start:end]\n",
    "            insertion_sort(current_run)\n",
    "        i = start + len(current_run)\n",
    "        runs.append(current_run)\n",
    "    while len(runs) > 1:\n",
    "        merged = merge_lists_old(runs.pop(0), runs.pop(0))\n",
    "        runs.append(merged)\n",
    "    return runs.pop(0) if runs else []"
   ]
  },
  {
   "cell_type": "code",
   "execution_count": 132,
   "id": "e454ebc8",
   "metadata": {},
   "outputs": [
    {
     "name": "stdout",
     "output_type": "stream",
     "text": [
      "[71, 90, 11, 38, 37, 39, 65, 67, 41, 78, 64, 61, 66, 63, 50, 85, 66, 54, 86, 47]\n",
      "before [71, 90, 11, 38, 37, 39, 65, 67]\n",
      "after [11, 37, 38, 39, 65, 67, 71, 90]\n",
      "before [41, 78, 64, 61, 66, 63, 50, 85]\n",
      "after [41, 50, 61, 63, 64, 66, 78, 85]\n",
      "before [66, 54, 86, 47]\n",
      "after [47, 66, 54, 86]\n",
      "[[11, 37, 38, 39, 65, 67, 71, 90], [41, 50, 61, 63, 64, 66, 78, 85], [47, 66, 54, 86]]\n",
      "[11, 37, 38, 39, 41, 47, 50, 61, 63, 64, 65, 66, 66, 54, 67, 71, 78, 85, 86, 90]\n"
     ]
    }
   ],
   "source": [
    "arr = gen_array(20)\n",
    "print(arr)\n",
    "arr = timsort(arr)\n",
    "print(arr)"
   ]
  },
  {
   "cell_type": "markdown",
   "id": "39e075a9-8f16-431a-b12c-cfac06fd7fb6",
   "metadata": {},
   "source": [
    "## Измерение производительности"
   ]
  },
  {
   "cell_type": "code",
   "execution_count": 136,
   "id": "061ccbe6",
   "metadata": {},
   "outputs": [
    {
     "name": "stdout",
     "output_type": "stream",
     "text": [
      "[32, 59, 74, 15, 23, 56, 11, 31, 5, 24, 36, 1, 56, 30, 76, 51, 98, 55, 96, 20, 23, 15, 6, 55, 33, 70, 15, 79, 38, 7]\n"
     ]
    }
   ],
   "source": [
    "N = 10 ** 6\n",
    "original_arr = gen_array(N)\n",
    "print(original_arr[:30])"
   ]
  },
  {
   "cell_type": "code",
   "execution_count": 73,
   "id": "b7e9992c",
   "metadata": {},
   "outputs": [
    {
     "name": "stdout",
     "output_type": "stream",
     "text": [
      "Time of executation of gnome sort is 4.314817905426025 seconds\n"
     ]
    }
   ],
   "source": [
    "arr = copy.deepcopy(original_arr)\n",
    "start_ts = time.time()\n",
    "gnome_sort(arr)\n",
    "end_ts = time.time()\n",
    "print(f\"Time of executation of gnome sort is {end_ts - start_ts} seconds\")"
   ]
  },
  {
   "cell_type": "code",
   "execution_count": 74,
   "id": "a7500ac9",
   "metadata": {},
   "outputs": [
    {
     "name": "stdout",
     "output_type": "stream",
     "text": [
      "Time of executation of bubble sort is 5.958443880081177 seconds\n"
     ]
    }
   ],
   "source": [
    "arr = copy.deepcopy(original_arr)\n",
    "start_ts = time.time()\n",
    "bubble_sort(arr)\n",
    "end_ts = time.time()\n",
    "print(f\"Time of executation of bubble sort is {end_ts - start_ts} seconds\")"
   ]
  },
  {
   "cell_type": "code",
   "execution_count": 100,
   "id": "b57d88ac",
   "metadata": {},
   "outputs": [
    {
     "ename": "KeyboardInterrupt",
     "evalue": "",
     "output_type": "error",
     "traceback": [
      "\u001b[0;31m---------------------------------------------------------------------------\u001b[0m",
      "\u001b[0;31mKeyboardInterrupt\u001b[0m                         Traceback (most recent call last)",
      "\u001b[0;32m/var/folders/2l/t0vhqbs96tsb7mlgjyszlznc0000gp/T/ipykernel_4380/3337169312.py\u001b[0m in \u001b[0;36m<module>\u001b[0;34m\u001b[0m\n\u001b[1;32m      1\u001b[0m \u001b[0marr\u001b[0m \u001b[0;34m=\u001b[0m \u001b[0mcopy\u001b[0m\u001b[0;34m.\u001b[0m\u001b[0mdeepcopy\u001b[0m\u001b[0;34m(\u001b[0m\u001b[0moriginal_arr\u001b[0m\u001b[0;34m)\u001b[0m\u001b[0;34m\u001b[0m\u001b[0;34m\u001b[0m\u001b[0m\n\u001b[1;32m      2\u001b[0m \u001b[0mstart_ts\u001b[0m \u001b[0;34m=\u001b[0m \u001b[0mtime\u001b[0m\u001b[0;34m.\u001b[0m\u001b[0mtime\u001b[0m\u001b[0;34m(\u001b[0m\u001b[0;34m)\u001b[0m\u001b[0;34m\u001b[0m\u001b[0;34m\u001b[0m\u001b[0m\n\u001b[0;32m----> 3\u001b[0;31m \u001b[0minsertion_sort\u001b[0m\u001b[0;34m(\u001b[0m\u001b[0marr\u001b[0m\u001b[0;34m)\u001b[0m\u001b[0;34m\u001b[0m\u001b[0;34m\u001b[0m\u001b[0m\n\u001b[0m\u001b[1;32m      4\u001b[0m \u001b[0mend_ts\u001b[0m \u001b[0;34m=\u001b[0m \u001b[0mtime\u001b[0m\u001b[0;34m.\u001b[0m\u001b[0mtime\u001b[0m\u001b[0;34m(\u001b[0m\u001b[0;34m)\u001b[0m\u001b[0;34m\u001b[0m\u001b[0;34m\u001b[0m\u001b[0m\n\u001b[1;32m      5\u001b[0m \u001b[0mprint\u001b[0m\u001b[0;34m(\u001b[0m\u001b[0;34mf\"Time of executation of insertion sort is {end_ts - start_ts} seconds\"\u001b[0m\u001b[0;34m)\u001b[0m\u001b[0;34m\u001b[0m\u001b[0;34m\u001b[0m\u001b[0m\n",
      "\u001b[0;32m/var/folders/2l/t0vhqbs96tsb7mlgjyszlznc0000gp/T/ipykernel_4380/1380243058.py\u001b[0m in \u001b[0;36minsertion_sort\u001b[0;34m(arr)\u001b[0m\n\u001b[1;32m      7\u001b[0m         \u001b[0mkey\u001b[0m \u001b[0;34m=\u001b[0m \u001b[0marr\u001b[0m\u001b[0;34m[\u001b[0m\u001b[0mi\u001b[0m\u001b[0;34m]\u001b[0m\u001b[0;34m\u001b[0m\u001b[0;34m\u001b[0m\u001b[0m\n\u001b[1;32m      8\u001b[0m         \u001b[0mj\u001b[0m \u001b[0;34m=\u001b[0m \u001b[0mi\u001b[0m \u001b[0;34m-\u001b[0m \u001b[0;36m1\u001b[0m\u001b[0;34m\u001b[0m\u001b[0;34m\u001b[0m\u001b[0m\n\u001b[0;32m----> 9\u001b[0;31m         \u001b[0;32mwhile\u001b[0m \u001b[0mj\u001b[0m \u001b[0;34m>=\u001b[0m \u001b[0;36m0\u001b[0m \u001b[0;32mand\u001b[0m \u001b[0marr\u001b[0m\u001b[0;34m[\u001b[0m\u001b[0mj\u001b[0m\u001b[0;34m]\u001b[0m \u001b[0;34m>\u001b[0m \u001b[0mkey\u001b[0m\u001b[0;34m:\u001b[0m\u001b[0;34m\u001b[0m\u001b[0;34m\u001b[0m\u001b[0m\n\u001b[0m\u001b[1;32m     10\u001b[0m             \u001b[0marr\u001b[0m\u001b[0;34m[\u001b[0m\u001b[0mj\u001b[0m\u001b[0;34m+\u001b[0m\u001b[0;36m1\u001b[0m\u001b[0;34m]\u001b[0m \u001b[0;34m=\u001b[0m \u001b[0marr\u001b[0m\u001b[0;34m[\u001b[0m\u001b[0mj\u001b[0m\u001b[0;34m]\u001b[0m\u001b[0;34m\u001b[0m\u001b[0;34m\u001b[0m\u001b[0m\n\u001b[1;32m     11\u001b[0m             \u001b[0mj\u001b[0m \u001b[0;34m-=\u001b[0m \u001b[0;36m1\u001b[0m\u001b[0;34m\u001b[0m\u001b[0;34m\u001b[0m\u001b[0m\n",
      "\u001b[0;31mKeyboardInterrupt\u001b[0m: "
     ]
    }
   ],
   "source": [
    "arr = copy.deepcopy(original_arr)\n",
    "start_ts = time.time()\n",
    "insertion_sort(arr)\n",
    "end_ts = time.time()\n",
    "print(f\"Time of executation of insertion sort is {end_ts - start_ts} seconds\")"
   ]
  },
  {
   "cell_type": "code",
   "execution_count": 97,
   "id": "fe7144cd",
   "metadata": {},
   "outputs": [
    {
     "name": "stdout",
     "output_type": "stream",
     "text": [
      "Time of executation of merge sort is 0.003454923629760742 seconds\n"
     ]
    }
   ],
   "source": [
    "arr = copy.deepcopy(original_arr)\n",
    "start_ts = time.time()\n",
    "arr = merge_sort(arr)\n",
    "end_ts = time.time()\n",
    "print(f\"Time of executation of merge sort is {end_ts - start_ts} seconds\")"
   ]
  },
  {
   "cell_type": "code",
   "execution_count": 137,
   "id": "6845eb8e",
   "metadata": {},
   "outputs": [
    {
     "name": "stdout",
     "output_type": "stream",
     "text": [
      "Time of executation of merge sort is 1.2495009899139404 seconds\n"
     ]
    }
   ],
   "source": [
    "arr = copy.deepcopy(original_arr)\n",
    "start_ts = time.time()\n",
    "arr = quick_sort_old(arr)\n",
    "end_ts = time.time()\n",
    "print(f\"Time of executation of merge sort is {end_ts - start_ts} seconds\")"
   ]
  },
  {
   "cell_type": "code",
   "execution_count": 138,
   "id": "dce02e0a",
   "metadata": {},
   "outputs": [
    {
     "name": "stdout",
     "output_type": "stream",
     "text": [
      "Time of executation of merge sort is 0.00011801719665527344 seconds\n"
     ]
    }
   ],
   "source": [
    "arr = copy.deepcopy(original_arr)\n",
    "start_ts = time.time()\n",
    "quick_sort(arr)\n",
    "end_ts = time.time()\n",
    "print(f\"Time of executation of merge sort is {end_ts - start_ts} seconds\")"
   ]
  },
  {
   "cell_type": "code",
   "execution_count": 139,
   "id": "583e4905",
   "metadata": {},
   "outputs": [
    {
     "name": "stdout",
     "output_type": "stream",
     "text": [
      "Time of executation of timsort is 10.282519102096558 seconds\n"
     ]
    }
   ],
   "source": [
    "arr = copy.deepcopy(original_arr)\n",
    "start_ts = time.time()\n",
    "timsort(arr)\n",
    "end_ts = time.time()\n",
    "print(f\"Time of executation of timsort is {end_ts - start_ts} seconds\")"
   ]
  },
  {
   "cell_type": "code",
   "execution_count": null,
   "id": "9f5f2a3d",
   "metadata": {},
   "outputs": [],
   "source": []
  }
 ],
 "metadata": {
  "kernelspec": {
   "display_name": "Python 3 (ipykernel)",
   "language": "python",
   "name": "python3"
  },
  "language_info": {
   "codemirror_mode": {
    "name": "ipython",
    "version": 3
   },
   "file_extension": ".py",
   "mimetype": "text/x-python",
   "name": "python",
   "nbconvert_exporter": "python",
   "pygments_lexer": "ipython3",
   "version": "3.13.1"
  }
 },
 "nbformat": 4,
 "nbformat_minor": 5
}
