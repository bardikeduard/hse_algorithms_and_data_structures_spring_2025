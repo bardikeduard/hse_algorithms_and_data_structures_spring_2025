{
  "nbformat": 4,
  "nbformat_minor": 0,
  "metadata": {
    "colab": {
      "provenance": []
    },
    "kernelspec": {
      "name": "python3",
      "display_name": "Python 3"
    },
    "language_info": {
      "name": "python"
    }
  },
  "cells": [
    {
      "cell_type": "markdown",
      "source": [
        "O(1)"
      ],
      "metadata": {
        "id": "O20byJnca7gK"
      }
    },
    {
      "cell_type": "code",
      "execution_count": 10,
      "metadata": {
        "colab": {
          "base_uri": "https://localhost:8080/"
        },
        "id": "pT_ly6BlVq4t",
        "outputId": "f2a1bece-91e9-4d9e-b828-fa88c96fc4f9"
      },
      "outputs": [
        {
          "output_type": "execute_result",
          "data": {
            "text/plain": [
              "14"
            ]
          },
          "metadata": {},
          "execution_count": 10
        }
      ],
      "source": [
        "nums = [1, 30, 14, 6, 10]\n",
        "need_num = nums[2]\n",
        "need_num"
      ]
    },
    {
      "cell_type": "markdown",
      "source": [
        "O(n)"
      ],
      "metadata": {
        "id": "rr8HpllTa5c9"
      }
    },
    {
      "cell_type": "code",
      "source": [
        "nums = [1, 30, 14, 6, 10]\n",
        "sum = 0"
      ],
      "metadata": {
        "id": "jbJjRh8QajO2"
      },
      "execution_count": 11,
      "outputs": []
    },
    {
      "cell_type": "code",
      "source": [
        "for num in nums:\n",
        "  sum += num\n",
        "sum"
      ],
      "metadata": {
        "colab": {
          "base_uri": "https://localhost:8080/"
        },
        "id": "n_uc5CuaW7I0",
        "outputId": "67b52f5c-b2c3-45ec-d215-241d1daa2901"
      },
      "execution_count": 12,
      "outputs": [
        {
          "output_type": "execute_result",
          "data": {
            "text/plain": [
              "61"
            ]
          },
          "metadata": {},
          "execution_count": 12
        }
      ]
    },
    {
      "cell_type": "markdown",
      "source": [
        "O(log n)"
      ],
      "metadata": {
        "id": "rOsLHVdLa9ef"
      }
    },
    {
      "cell_type": "markdown",
      "source": [
        "Бинарный поиск\n"
      ],
      "metadata": {
        "id": "87AuXUSneWw2"
      }
    },
    {
      "cell_type": "code",
      "source": [
        "def binary_search(list, item):\n",
        "    low = 0\n",
        "    high = len(list) - 1\n",
        "    step = 0\n",
        "\n",
        "    while low <= high:\n",
        "        mid = (low + high) // 2\n",
        "        guess = list[mid]\n",
        "        step += 1\n",
        "        print(f\"Шаг {step}: low={low}, high={high}, mid={mid}, guess={guess}\")\n",
        "\n",
        "        if guess == item:\n",
        "            print(f\"Элемент {item} найден на индексе {mid}.\")\n",
        "            return mid\n",
        "        if guess > item:\n",
        "            high = mid - 1\n",
        "        else:\n",
        "            low = mid + 1\n",
        "\n",
        "    print(f\"Элемент {item} не найден.\")\n",
        "    return None"
      ],
      "metadata": {
        "id": "npj6WUhpiTGq"
      },
      "execution_count": 13,
      "outputs": []
    },
    {
      "cell_type": "code",
      "source": [
        "list_b = [2, 3, 5, 10, 11, 12, 30, 33, 37]\n",
        "binary_search(list_b, 33)"
      ],
      "metadata": {
        "colab": {
          "base_uri": "https://localhost:8080/"
        },
        "id": "VLYBquSriyrC",
        "outputId": "dc1105bc-209c-4725-af3b-d4096dd022e5"
      },
      "execution_count": 14,
      "outputs": [
        {
          "output_type": "stream",
          "name": "stdout",
          "text": [
            "Шаг 1: low=0, high=8, mid=4, guess=11\n",
            "Шаг 2: low=5, high=8, mid=6, guess=30\n",
            "Шаг 3: low=7, high=8, mid=7, guess=33\n",
            "Элемент 33 найден на индексе 7.\n"
          ]
        },
        {
          "output_type": "execute_result",
          "data": {
            "text/plain": [
              "7"
            ]
          },
          "metadata": {},
          "execution_count": 14
        }
      ]
    },
    {
      "cell_type": "code",
      "source": [
        "binary_search(list_b, 1)"
      ],
      "metadata": {
        "colab": {
          "base_uri": "https://localhost:8080/"
        },
        "id": "NfQsdTCUfS5Y",
        "outputId": "558e766e-f097-42d9-d3ed-1fcb459a1e51"
      },
      "execution_count": 15,
      "outputs": [
        {
          "output_type": "stream",
          "name": "stdout",
          "text": [
            "Шаг 1: low=0, high=8, mid=4, guess=11\n",
            "Шаг 2: low=0, high=3, mid=1, guess=3\n",
            "Шаг 3: low=0, high=0, mid=0, guess=2\n",
            "Элемент 1 не найден.\n"
          ]
        }
      ]
    },
    {
      "cell_type": "code",
      "source": [],
      "metadata": {
        "id": "UtVMcMuBgSnu"
      },
      "execution_count": null,
      "outputs": []
    }
  ]
}